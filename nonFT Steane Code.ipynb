{
 "cells": [
  {
   "cell_type": "code",
   "execution_count": 1,
   "metadata": {},
   "outputs": [],
   "source": [
    "from pyfiles.nonftsteane import *"
   ]
  },
  {
   "cell_type": "code",
   "execution_count": 2,
   "metadata": {},
   "outputs": [],
   "source": [
    "n = 15\n",
    "\n",
    "angle = np.linspace(0,1,n+2)\n",
    "angle = np.delete(angle, [n+1])\n",
    "angle = np.delete(angle, [0])\n",
    "\n",
    "a, b = [], []\n",
    "with open(\"text/unitary{}.txt\".format(n), \"r\") as file:\n",
    "    for line in file:\n",
    "        a.append(list(map(str, line.strip().split(\",\"))))\n",
    "with open(\"text/adjunitary{}.txt\".format(n), \"r\") as file:\n",
    "    for line in file:\n",
    "        b.append(list(map(str, line.strip().split(\",\"))))"
   ]
  },
  {
   "cell_type": "code",
   "execution_count": 10,
   "metadata": {},
   "outputs": [
    {
     "name": "stdout",
     "output_type": "stream",
     "text": [
      "{'1011010 10000000': 1, '0110010 00000000': 1, '0111111 00000000': 1, '0101001 10000000': 1, '0111100 00000000': 1, '1000111 00000000': 1, '0000000 00000000': 1, '1011010 00000000': 2, '1111010 00000000': 1}\n",
      "['10', '00', '00', '10', '00', '00', '00', '00', '00']\n",
      "Preselection discarded:  20.0 %\n",
      "Postselection discarded:  40.0 %\n",
      "Accepted 0:  40.0 %\n",
      "Accepted 1:  0.0 %\n",
      "Total discarded:  60.00000000000001 %\n",
      "Succesrate:  1.0\n"
     ]
    }
   ],
   "source": [
    "qc = code_goto()\n",
    "X_L(qc, 1)\n",
    "H_L(qc, 0)\n",
    "###############\n",
    "# root_T_L(qc, 0, err=True)\n",
    "# #qec(qc, 0)\n",
    "\n",
    "# root_T_L(qc, 1, err=True)\n",
    "# #qec(qc, 1)\n",
    "\n",
    "# CNOT_L(qc, 0)\n",
    "\n",
    "# adj_root_T_L(qc, 1, err=True)\n",
    "# #qec(qc, 1)\n",
    "\n",
    "# CNOT_L(qc, 0)\n",
    "# ################\n",
    "# adj_T_L(qc, 0)\n",
    "H_L(qc, 0)\n",
    "\n",
    "# qec(qc, 0)\n",
    "\n",
    "zeros, ones, pre , post = readout(qc, 0, 10, 0.05)\n",
    "\n",
    "print(\"Preselection discarded: \", pre*100, \"%\")\n",
    "print(\"Postselection discarded: \", post*100, \"%\")\n",
    "print(\"Accepted 0: \", zeros*100, \"%\")\n",
    "print(\"Accepted 1: \", ones*100, \"%\")\n",
    "print(\"Total discarded: \", (pre+post)*100, \"%\")\n",
    "print(\"Succesrate: \", zeros/(ones+zeros))"
   ]
  }
 ],
 "metadata": {
  "kernelspec": {
   "display_name": "base",
   "language": "python",
   "name": "python3"
  },
  "language_info": {
   "codemirror_mode": {
    "name": "ipython",
    "version": 3
   },
   "file_extension": ".py",
   "mimetype": "text/x-python",
   "name": "python",
   "nbconvert_exporter": "python",
   "pygments_lexer": "ipython3",
   "version": "3.13.5"
  }
 },
 "nbformat": 4,
 "nbformat_minor": 2
}
