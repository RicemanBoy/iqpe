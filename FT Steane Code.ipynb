{
 "cells": [
  {
   "cell_type": "code",
   "execution_count": 2,
   "metadata": {},
   "outputs": [],
   "source": [
    "from pyfiles.ftsteane import *"
   ]
  },
  {
   "cell_type": "code",
   "execution_count": 2,
   "metadata": {},
   "outputs": [],
   "source": [
    "n = 15\n",
    "\n",
    "angle = np.linspace(0,1,n+2)\n",
    "angle = np.delete(angle, [n+1])\n",
    "angle = np.delete(angle, [0])\n",
    "\n",
    "a, b = [], []\n",
    "with open(\"text/unitary{}.txt\".format(n), \"r\") as file:\n",
    "    for line in file:\n",
    "        a.append(list(map(str, line.strip().split(\",\"))))\n",
    "with open(\"text/adjunitary{}.txt\".format(n), \"r\") as file:\n",
    "    for line in file:\n",
    "        b.append(list(map(str, line.strip().split(\",\"))))"
   ]
  },
  {
   "cell_type": "code",
   "execution_count": 4,
   "metadata": {},
   "outputs": [
    {
     "name": "stdout",
     "output_type": "stream",
     "text": [
      "Amount of gates in this circuit:  12515\n",
      "Depth of the circuit:  2479\n"
     ]
    }
   ],
   "source": [
    "qc = code_goto()\n",
    "qecc = ClassicalRegister(6)\n",
    "qc.add_register(qecc)\n",
    "\n",
    "counter = 0\n",
    "\n",
    "X_L(qc,1)\n",
    "H_L(qc,0)\n",
    "#############################\n",
    "for j in range(2):\n",
    "    CU_L(qc, a[0], b[0], qecc, err=False, ecc=False)\n",
    "###############################\n",
    "H_L(qc, pos=0)\n",
    "\n",
    "gates(qc)\n",
    "\n",
    "print(\"Depth of the circuit: \", qc.depth())\n",
    "\n",
    "hmm = dict(qc.count_ops())\n",
    "hmm[\"reset\"] = 0\n",
    "hmm[\"measure\"] = 0\n",
    "hmm[\"if_else\"] = 0\n",
    "counter += sum(hmm.values())\n",
    "\n",
    "# readout(qc, 0, 1, 0.000)"
   ]
  },
  {
   "cell_type": "code",
   "execution_count": 5,
   "metadata": {},
   "outputs": [
    {
     "name": "stdout",
     "output_type": "stream",
     "text": [
      "Amount of gates in this circuit:  6477\n",
      "Depth of the circuit:  3545\n"
     ]
    },
    {
     "data": {
      "text/plain": [
       "(1.0, 0.0, 0.0, 0.0)"
      ]
     },
     "execution_count": 5,
     "metadata": {},
     "output_type": "execute_result"
    }
   ],
   "source": [
    "#dritte Iteration\n",
    "qc = code_goto()\n",
    "\n",
    "qecc = ClassicalRegister(6)\n",
    "qc.add_register(qecc)\n",
    "\n",
    "X_L(qc,1)\n",
    "H_L(qc,0)\n",
    "# qec_ft(qc, qecc, 0), qec_ft(qc, qecc, 1)\n",
    "CT_L(qc, qecc, err=True, ecc = False)\n",
    "# qec_ft(qc, qecc, 0)\n",
    "adj_T_L(qc, 0, qecc=qecc, err=False, ecc=False)\n",
    "H_L(qc,0)\n",
    "# qec_ft(qc, qecc, 0)\n",
    "\n",
    "gates(qc)\n",
    "\n",
    "print(\"Depth of the circuit: \", qc.depth())\n",
    "\n",
    "readout(qc, 0, 1, 0.000)"
   ]
  },
  {
   "cell_type": "code",
   "execution_count": null,
   "metadata": {},
   "outputs": [
    {
     "name": "stdout",
     "output_type": "stream",
     "text": [
      "Amount of gates in this circuit:  132477\n",
      "Depth of the circuit:  53449\n"
     ]
    }
   ],
   "source": [
    "#erste iteration, 0.3 better approx, nicht laufen lassen, das dauert wsl knapp 20-30 min. !!!!\n",
    "qc = code_goto()\n",
    "\n",
    "qecc = ClassicalRegister(6)\n",
    "qc.add_register(qecc)\n",
    "\n",
    "X_L(qc,1)\n",
    "H_L(qc,0)\n",
    "#qec_ft(qc, qecc, 0), qec_ft(qc, qecc, 1)\n",
    "for j in range(4):\n",
    "    CU_L(qc, qecc=qecc, err=False)\n",
    "H_L(qc,0)\n",
    "\n",
    "gates(qc)\n",
    "\n",
    "print(\"Depth of the circuit: \", qc.depth())\n",
    "\n",
    "zeros, ones, preselec, postselec = readout(qc, 0, 1, 0.0)"
   ]
  },
  {
   "cell_type": "code",
   "execution_count": null,
   "metadata": {},
   "outputs": [
    {
     "name": "stdout",
     "output_type": "stream",
     "text": [
      "y =  0.16666666666666666\n",
      "Err =  0.08838834764831842\n"
     ]
    }
   ],
   "source": [
    "ok, errr = Leon(3, 2, argh=0.0001, err=True, k=1)           #mit qec: 30min, ohne qec: 18 min\n",
    "\n",
    "print(\"y = \", ok)\n",
    "print(\"Err = \", errr)"
   ]
  },
  {
   "cell_type": "code",
   "execution_count": 23,
   "metadata": {},
   "outputs": [
    {
     "data": {
      "text/plain": [
       "(0.855, 0.145, 0.0, 0.0)"
      ]
     },
     "execution_count": 23,
     "metadata": {},
     "output_type": "execute_result"
    }
   ],
   "source": [
    "def sigamcode(n=2):             #encodes |00>_L\n",
    "    qr = QuantumRegister(7*n+1,\"q\")\n",
    "    cbits = ClassicalRegister(9+6,\"c\")\n",
    "    qc = QuantumCircuit(qr, cbits)\n",
    "    \n",
    "    anc = qc.num_qubits - 1\n",
    "\n",
    "    qc.h(0)                            #directly implements a t gate onto the steane code\n",
    "    qc.t(0)\n",
    "\n",
    "    for i in range(n):\n",
    "        qc.h(1+7*i)\n",
    "        qc.h(2+7*i)\n",
    "        qc.h(3+7*i)\n",
    "\n",
    "        qc.cx(0+7*i,5+7*i)\n",
    "        qc.cx(0+7*i,6+7*i)\n",
    "\n",
    "        qc.cx(1+7*i,0+7*i)\n",
    "        qc.cx(3+7*i,4+7*i)\n",
    "\n",
    "        qc.cx(2+7*i,6+7*i)\n",
    "\n",
    "        qc.cx(1+7*i,5+7*i)\n",
    "\n",
    "        qc.cx(2+7*i,4+7*i)\n",
    "\n",
    "        qc.cx(3+7*i,6+7*i)\n",
    "\n",
    "        qc.cx(1+7*i,4+7*i)\n",
    "\n",
    "        qc.cx(2+7*i,0+7*i)\n",
    "        qc.cx(3+7*i,5+7*i)\n",
    "\n",
    "        # qc.cx(0+7*i,anc)\n",
    "        # qc.cx(5+7*i,anc)\n",
    "        # qc.cx(6+7*i,anc)\n",
    "\n",
    "        #qc.measure(anc,i)      \n",
    "    return qc\n",
    "\n",
    "qc = sigamcode(2)\n",
    "\n",
    "H_L(qc,0)\n",
    "\n",
    "qec(qc, 0)\n",
    "\n",
    "readout(qc,0,1000,0.0)"
   ]
  },
  {
   "cell_type": "code",
   "execution_count": 37,
   "metadata": {},
   "outputs": [
    {
     "name": "stdout",
     "output_type": "stream",
     "text": [
      "Preselection discarded:  32.0 %\n",
      "Postselection discarded:  4.0 %\n",
      "Accepted 0:  42.0 %\n",
      "Accepted 1:  22.0 %\n",
      "Total discarded:  36.0 %\n",
      "Succesrate:  0.65625\n"
     ]
    }
   ],
   "source": [
    "qc = code_goto()\n",
    "X_L(qc, 1)\n",
    "H_L(qc, 0)\n",
    "###############\n",
    "root_T_L(qc, 0, err=True)\n",
    "qec(qc, 0)\n",
    "\n",
    "root_T_L(qc, 1, err=True)\n",
    "qec(qc, 1)\n",
    "\n",
    "CNOT_L(qc, 0)\n",
    "\n",
    "adj_root_T_L(qc, 1, err=True)\n",
    "qec(qc, 1)\n",
    "\n",
    "CNOT_L(qc, 0)\n",
    "################\n",
    "adj_T_L(qc, 0)\n",
    "H_L(qc, 0)\n",
    "\n",
    "qec(qc, 0)\n",
    "\n",
    "zeros, ones, pre , post = readout(qc, 0, 100, 0.01)\n",
    "\n",
    "print(\"Preselection discarded: \", pre*100, \"%\")\n",
    "print(\"Postselection discarded: \", post*100, \"%\")\n",
    "print(\"Accepted 0: \", zeros*100, \"%\")\n",
    "print(\"Accepted 1: \", ones*100, \"%\")\n",
    "print(\"Total discarded: \", (pre+post)*100, \"%\")\n",
    "print(\"Succesrate: \", zeros/(ones+zeros))"
   ]
  },
  {
   "cell_type": "code",
   "execution_count": 11,
   "metadata": {},
   "outputs": [
    {
     "name": "stdout",
     "output_type": "stream",
     "text": [
      "Preselection discarded:  1.4000000000000001 %\n",
      "Postselection discarded:  1.0 %\n",
      "Accepted 0:  83.89999999999999 %\n",
      "Accepted 1:  13.700000000000001 %\n",
      "Total discarded:  2.4 %\n",
      "Succesrate:  0.8596311475409836\n"
     ]
    }
   ],
   "source": [
    "qc = code_goto()\n",
    "\n",
    "\n",
    "X_L(qc, 1)\n",
    "\n",
    "H_L(qc, 0)\n",
    "\n",
    "###############\n",
    "root_T_L(qc, 0, err=False)\n",
    "qec_ideal(qc, 0)\n",
    "\n",
    "root_T_L(qc, 1, err=False)\n",
    "qec_ideal(qc, 1)\n",
    "\n",
    "CNOT_L(qc, 0)\n",
    "\n",
    "adj_root_T_L(qc, 1, err=False)\n",
    "qec_ideal(qc, 1)\n",
    "\n",
    "CNOT_L(qc, 0)\n",
    "\n",
    "################\n",
    "adj_T_L(qc, 0)\n",
    "\n",
    "H_L(qc, 0)\n",
    "\n",
    "qec_ideal(qc,0)\n",
    "\n",
    "shots = 1000\n",
    "\n",
    "zeros, ones, pre, post = readout(qc, 0, shots, 0.003)\n",
    "\n",
    "print(\"Preselection discarded: \", pre*100, \"%\")\n",
    "print(\"Postselection discarded: \", post*100, \"%\")\n",
    "print(\"Accepted 0: \", zeros*100, \"%\")\n",
    "print(\"Accepted 1: \", ones*100, \"%\")\n",
    "print(\"Total discarded: \", (pre+post)*100, \"%\")\n",
    "print(\"Succesrate: \", zeros/(ones+zeros))"
   ]
  },
  {
   "cell_type": "code",
   "execution_count": 15,
   "metadata": {},
   "outputs": [
    {
     "name": "stdout",
     "output_type": "stream",
     "text": [
      "Preselection discarded:  39.0 %\n",
      "Postselection discarded:  48.199999999999996 %\n",
      "0:  11.600000000000001 %\n",
      "1:  1.2 %\n",
      "Pre-/Postselection discarded:  87.2 %\n",
      "Succesrate:  90.625 %\n"
     ]
    }
   ],
   "source": [
    "#iQPE second iteration                  # p=5%, 10k Shots:    no qec: 70% Success, mit qec: Success\n",
    "\n",
    "qc = code_goto()\n",
    "#qec_ideal(qc,1)\n",
    "#qec_ideal(qc,0)\n",
    "\n",
    "X_L(qc,1)\n",
    "#qec_ideal(qc,1)\n",
    "\n",
    "H_L(qc,0)\n",
    "#qec_ideal(qc,0)\n",
    "\n",
    "T_L(qc, 0)\n",
    "#qec_ideal(qc,0)\n",
    "\n",
    "T_L(qc, 1)\n",
    "#qec_ideal(qc,1)\n",
    "\n",
    "CNOT_L(qc, control=0)\n",
    "#qec_ideal(qc,1)\n",
    "#qec_ideal(qc,0)\n",
    "\n",
    "adj_T_L(qc, pos = 1)\n",
    "#qec_ideal(qc,1)\n",
    "\n",
    "CNOT_L(qc, control=0)\n",
    "#qec_ideal(qc,1)\n",
    "#qec_ideal(qc,0)\n",
    "\n",
    "adj_S_L(qc, 0)\n",
    "#qec_ideal(qc,0)\n",
    "\n",
    "H_L(qc, 0)\n",
    "#qec_ideal(qc,0)\n",
    "\n",
    "zeros, ones, preselected, post = readout(qc, 0, 1000, 0.05)\n",
    "\n",
    "print(\"Preselection discarded: \", preselected*100, \"%\")\n",
    "print(\"Postselection discarded: \", post*100, \"%\")\n",
    "print(\"0: \", zeros*100, \"%\")\n",
    "print(\"1: \", ones*100, \"%\")\n",
    "print(\"Pre-/Postselection discarded: \", (post+preselected)*100, \"%\")\n",
    "print(\"Succesrate: \", zeros/(ones+zeros)*100, \"%\")"
   ]
  },
  {
   "cell_type": "code",
   "execution_count": 6,
   "metadata": {},
   "outputs": [
    {
     "data": {
      "image/png": "[encoded data removed]",
      "text/plain": [
       "<Figure size 1300x500 with 1 Axes>"
      ]
     },
     "metadata": {},
     "output_type": "display_data"
    }
   ],
   "source": [
    "x = np.linspace(0,0.02,2)\n",
    "y = []\n",
    "y_no_QEC = []\n",
    "one, zero, one_QEC, zero_QEC, pre, post, pre_QEC, post_QEC = [],[],[],[],[],[],[],[]\n",
    "shots = 1\n",
    "for i in x:\n",
    "    # depolarizing_prob = i\n",
    "    # dep_error = depolarizing_error(depolarizing_prob, 1)\n",
    "    # dep_error_2q = depolarizing_error(depolarizing_prob, 2)\n",
    "    # noise_model = NoiseModel()\n",
    "    # noise_model.add_all_qubit_quantum_error(dep_error, ['x', \"z\",'h'])  # Apply to single-qubit gates\n",
    "    # noise_model.add_all_qubit_quantum_error(dep_error_2q, [\"cx\"])  # Apply to 2-qubit gates\n",
    "    \n",
    "    cbits = ClassicalRegister(3,\"c\")\n",
    "    qc = code_goto(cbits=cbits)\n",
    "    qecc = ClassicalRegister(6)\n",
    "\n",
    "    X_L(qc,1)\n",
    "    H_L(qc,0)\n",
    "    CT_L(qc, cbits, qecc, err = False)\n",
    "    adj_T_L(qc,cbits, 0)\n",
    "    H_L(qc,0)\n",
    "\n",
    "    zeros, ones, preselec , postselec = readout(qc, 0, shots, i)\n",
    "\n",
    "    total = zeros + ones\n",
    "\n",
    "    if total == 0:\n",
    "        y_no_QEC.append(0.5)\n",
    "    else:\n",
    "        y_no_QEC.append(zeros/total)\n",
    "    pre.append(preselec), post.append(postselec), one.append(ones), zero.append(zeros)\n",
    "    ###################################################################################################\n",
    "    cbits = ClassicalRegister(3,\"c\")\n",
    "    qc = code_goto(cbits=cbits)\n",
    "\n",
    "    qecc = ClassicalRegister(6)\n",
    "    qc.add_register(qecc)\n",
    "\n",
    "    X_L(qc,1)\n",
    "    H_L(qc,0)\n",
    "    CT_L(qc, cbits, qecc, err = True)\n",
    "    qec(qc, qecc, 0)\n",
    "    adj_T_L(qc, cbits, 0)\n",
    "    H_L(qc,0)\n",
    "    qec(qc, qecc, 0)\n",
    "\n",
    "    zeros, ones, preselec , postselec = readout(qc, 0, shots, i)\n",
    "\n",
    "    total = zeros + ones\n",
    "\n",
    "    if total == 0:\n",
    "        y.append(0.5)\n",
    "    else:\n",
    "        y.append(zeros/total)\n",
    "        \n",
    "    pre_QEC.append(preselec), post_QEC.append(postselec), one_QEC.append(ones), zero_QEC.append(zeros)\n",
    "\n",
    "data = np.array((x,pre,post,zero,one,pre_QEC,post_QEC, zero_QEC, one_QEC))\n",
    "#np.savetxt(\"Plots/text/Steane_3rd_Pauli.txt\", data, delimiter=\",\")\n",
    "\n",
    "fig, ax = plt.subplots(figsize=(13,5))\n",
    "\n",
    "ax.plot(x,y,label = \"With QEC\", color=\"red\")\n",
    "ax.plot(x,y_no_QEC, label = \"[7,1,3] Steane Code\", color=\"blue\")\n",
    "plt.title(\"Success rate of third iteration of iQPE on a [7,1,3] Color Code with postselection\")\n",
    "plt.xlabel(\"Depolarizing error probability\")\n",
    "plt.ylabel(\"Success rate\")\n",
    "plt.grid()\n",
    "plt.legend()\n",
    "plt.show()"
   ]
  }
 ],
 "metadata": {
  "kernelspec": {
   "display_name": "base",
   "language": "python",
   "name": "python3"
  },
  "language_info": {
   "codemirror_mode": {
    "name": "ipython",
    "version": 3
   },
   "file_extension": ".py",
   "mimetype": "text/x-python",
   "name": "python",
   "nbconvert_exporter": "python",
   "pygments_lexer": "ipython3",
   "version": "3.13.5"
  }
 },
 "nbformat": 4,
 "nbformat_minor": 2
}
